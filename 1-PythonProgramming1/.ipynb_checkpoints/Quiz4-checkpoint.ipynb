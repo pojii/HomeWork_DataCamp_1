{
 "cells": [
  {
   "cell_type": "code",
   "execution_count": 1,
   "metadata": {},
   "outputs": [
    {
     "data": {
      "text/plain": [
       "6"
      ]
     },
     "execution_count": 1,
     "metadata": {},
     "output_type": "execute_result"
    }
   ],
   "source": [
    "a = [[[1,3],[3,4]],[5,[5,6],[7,8]]]\n",
    "a[1][1][1]"
   ]
  },
  {
   "cell_type": "code",
   "execution_count": 12,
   "metadata": {},
   "outputs": [
    {
     "data": {
      "text/plain": [
       "[['Teerapord', 'Lin', 84],\n",
       " ['Shaofeng', 'Lin', 60],\n",
       " ['Jianwei', 'Wang', 70],\n",
       " ['Shaoyan', 'Lin', 55]]"
      ]
     },
     "execution_count": 12,
     "metadata": {},
     "output_type": "execute_result"
    }
   ],
   "source": [
    "name1=['Teerapord','Lin',84]\n",
    "name2=['Shaofeng','Lin',60]\n",
    "name3=['Jianwei','Wang',70]\n",
    "name4=['Shaoyan','Lin',55]\n",
    "name_all = [name1, name2, name3, name4]\n",
    "name_all"
   ]
  },
  {
   "cell_type": "code",
   "execution_count": 16,
   "metadata": {},
   "outputs": [
    {
     "data": {
      "text/plain": [
       "[['Teerapord', 'Lin', 84], ['Shaofeng', 'Lin', 60], ['Jianwei', 'Wang', 70]]"
      ]
     },
     "execution_count": 16,
     "metadata": {},
     "output_type": "execute_result"
    }
   ],
   "source": [
    "del name_all[3]\n",
    "name_all"
   ]
  },
  {
   "cell_type": "code",
   "execution_count": 17,
   "metadata": {},
   "outputs": [
    {
     "data": {
      "text/plain": [
       "[['Shaojian', 'Lin', 49],\n",
       " ['Teerapord', 'Lin', 84],\n",
       " ['Shaofeng', 'Lin', 60],\n",
       " ['Jianwei', 'Wang', 70]]"
      ]
     },
     "execution_count": 17,
     "metadata": {},
     "output_type": "execute_result"
    }
   ],
   "source": [
    "name_all.insert(0,['Shaojian','Lin',49])\n",
    "name_all"
   ]
  },
  {
   "cell_type": "code",
   "execution_count": 18,
   "metadata": {},
   "outputs": [
    {
     "data": {
      "text/plain": [
       "[['Shaojian', 'Lin', 49],\n",
       " ['Teerapord', 'Lin', 94],\n",
       " ['Shaofeng', 'Lin', 60],\n",
       " ['Jianwei', 'Wang', 70]]"
      ]
     },
     "execution_count": 18,
     "metadata": {},
     "output_type": "execute_result"
    }
   ],
   "source": [
    "name_all[1][2]=name_all[1][2]+10\n",
    "name_all"
   ]
  },
  {
   "cell_type": "code",
   "execution_count": null,
   "metadata": {},
   "outputs": [],
   "source": []
  }
 ],
 "metadata": {
  "kernelspec": {
   "display_name": "Python 3",
   "language": "python",
   "name": "python3"
  },
  "language_info": {
   "codemirror_mode": {
    "name": "ipython",
    "version": 3
   },
   "file_extension": ".py",
   "mimetype": "text/x-python",
   "name": "python",
   "nbconvert_exporter": "python",
   "pygments_lexer": "ipython3",
   "version": "3.7.4"
  }
 },
 "nbformat": 4,
 "nbformat_minor": 2
}
