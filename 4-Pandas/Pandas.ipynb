{
 "cells": [
  {
   "cell_type": "code",
   "execution_count": 2,
   "metadata": {},
   "outputs": [],
   "source": [
    "import numpy as np\n",
    "import pandas as pd"
   ]
  },
  {
   "cell_type": "code",
   "execution_count": 4,
   "metadata": {},
   "outputs": [],
   "source": [
    "dict1={\"Treepop\":90,\"john\":99,'Smith':85}"
   ]
  },
  {
   "cell_type": "code",
   "execution_count": 5,
   "metadata": {},
   "outputs": [
    {
     "data": {
      "text/plain": [
       "{'Treepop': 90, 'john': 99, 'Smith': 85}"
      ]
     },
     "execution_count": 5,
     "metadata": {},
     "output_type": "execute_result"
    }
   ],
   "source": [
    "dict1"
   ]
  },
  {
   "cell_type": "code",
   "execution_count": 7,
   "metadata": {},
   "outputs": [
    {
     "data": {
      "text/plain": [
       "Treepop    90\n",
       "john       99\n",
       "Smith      85\n",
       "dtype: int64"
      ]
     },
     "execution_count": 7,
     "metadata": {},
     "output_type": "execute_result"
    }
   ],
   "source": [
    "pd.Series(dict1)"
   ]
  },
  {
   "cell_type": "code",
   "execution_count": 8,
   "metadata": {},
   "outputs": [],
   "source": [
    "score=[90,99,85]\n",
    "Name = [\"Threepop\",\"josh\",\"smith\"]"
   ]
  },
  {
   "cell_type": "code",
   "execution_count": 9,
   "metadata": {},
   "outputs": [
    {
     "name": "stdout",
     "output_type": "stream",
     "text": [
      "Threepop    90\n",
      "josh        99\n",
      "smith       85\n",
      "dtype: int64\n"
     ]
    }
   ],
   "source": [
    "series = pd.Series(data=score, index=Name)\n",
    "print(series)"
   ]
  },
  {
   "cell_type": "code",
   "execution_count": 10,
   "metadata": {},
   "outputs": [
    {
     "name": "stdout",
     "output_type": "stream",
     "text": [
      "<class 'list'>\n",
      "<class 'list'>\n"
     ]
    }
   ],
   "source": [
    "print(type(score))\n",
    "print(type(Name))"
   ]
  },
  {
   "cell_type": "code",
   "execution_count": 11,
   "metadata": {},
   "outputs": [
    {
     "name": "stdout",
     "output_type": "stream",
     "text": [
      "[90 99 85]\n",
      "['Threepop' 'josh' 'smith']\n"
     ]
    }
   ],
   "source": [
    "Score2 = np.array(score)\n",
    "Name2 = np.array(Name)\n",
    "print(Score2)\n",
    "print(Name2)"
   ]
  },
  {
   "cell_type": "code",
   "execution_count": 12,
   "metadata": {},
   "outputs": [
    {
     "name": "stdout",
     "output_type": "stream",
     "text": [
      "<class 'numpy.ndarray'>\n",
      "<class 'numpy.ndarray'>\n"
     ]
    }
   ],
   "source": [
    "print(type(Score2))\n",
    "print(type(Name2))"
   ]
  },
  {
   "cell_type": "code",
   "execution_count": 14,
   "metadata": {},
   "outputs": [
    {
     "name": "stdout",
     "output_type": "stream",
     "text": [
      "Threepop    90\n",
      "josh        99\n",
      "smith       85\n",
      "dtype: int64\n"
     ]
    }
   ],
   "source": [
    "series2 = pd.Series(data=Score2,index=Name2)\n",
    "print(series2)"
   ]
  },
  {
   "cell_type": "code",
   "execution_count": 129,
   "metadata": {},
   "outputs": [
    {
     "name": "stdout",
     "output_type": "stream",
     "text": [
      "109\n",
      "233\n",
      "216\n",
      "184\n",
      "491\n"
     ]
    },
    {
     "data": {
      "text/html": [
       "<div>\n",
       "<style scoped>\n",
       "    .dataframe tbody tr th:only-of-type {\n",
       "        vertical-align: middle;\n",
       "    }\n",
       "\n",
       "    .dataframe tbody tr th {\n",
       "        vertical-align: top;\n",
       "    }\n",
       "\n",
       "    .dataframe thead th {\n",
       "        text-align: right;\n",
       "    }\n",
       "</style>\n",
       "<table border=\"1\" class=\"dataframe\">\n",
       "  <thead>\n",
       "    <tr style=\"text-align: right;\">\n",
       "      <th></th>\n",
       "      <th>PassengerId</th>\n",
       "      <th>Survived</th>\n",
       "      <th>Pclass</th>\n",
       "      <th>Age</th>\n",
       "      <th>SibSp</th>\n",
       "      <th>Parch</th>\n",
       "      <th>Fare</th>\n",
       "    </tr>\n",
       "  </thead>\n",
       "  <tbody>\n",
       "    <tr>\n",
       "      <th>count</th>\n",
       "      <td>491.000000</td>\n",
       "      <td>491.000000</td>\n",
       "      <td>491.0</td>\n",
       "      <td>355.000000</td>\n",
       "      <td>491.000000</td>\n",
       "      <td>491.000000</td>\n",
       "      <td>491.000000</td>\n",
       "    </tr>\n",
       "    <tr>\n",
       "      <th>mean</th>\n",
       "      <td>439.154786</td>\n",
       "      <td>0.242363</td>\n",
       "      <td>3.0</td>\n",
       "      <td>25.140620</td>\n",
       "      <td>0.615071</td>\n",
       "      <td>0.393075</td>\n",
       "      <td>13.675550</td>\n",
       "    </tr>\n",
       "    <tr>\n",
       "      <th>std</th>\n",
       "      <td>264.441453</td>\n",
       "      <td>0.428949</td>\n",
       "      <td>0.0</td>\n",
       "      <td>12.495398</td>\n",
       "      <td>1.374883</td>\n",
       "      <td>0.888861</td>\n",
       "      <td>11.778142</td>\n",
       "    </tr>\n",
       "    <tr>\n",
       "      <th>min</th>\n",
       "      <td>1.000000</td>\n",
       "      <td>0.000000</td>\n",
       "      <td>3.0</td>\n",
       "      <td>0.420000</td>\n",
       "      <td>0.000000</td>\n",
       "      <td>0.000000</td>\n",
       "      <td>0.000000</td>\n",
       "    </tr>\n",
       "    <tr>\n",
       "      <th>25%</th>\n",
       "      <td>200.000000</td>\n",
       "      <td>0.000000</td>\n",
       "      <td>3.0</td>\n",
       "      <td>18.000000</td>\n",
       "      <td>0.000000</td>\n",
       "      <td>0.000000</td>\n",
       "      <td>7.750000</td>\n",
       "    </tr>\n",
       "    <tr>\n",
       "      <th>50%</th>\n",
       "      <td>432.000000</td>\n",
       "      <td>0.000000</td>\n",
       "      <td>3.0</td>\n",
       "      <td>24.000000</td>\n",
       "      <td>0.000000</td>\n",
       "      <td>0.000000</td>\n",
       "      <td>8.050000</td>\n",
       "    </tr>\n",
       "    <tr>\n",
       "      <th>75%</th>\n",
       "      <td>666.500000</td>\n",
       "      <td>0.000000</td>\n",
       "      <td>3.0</td>\n",
       "      <td>32.000000</td>\n",
       "      <td>1.000000</td>\n",
       "      <td>0.000000</td>\n",
       "      <td>15.500000</td>\n",
       "    </tr>\n",
       "    <tr>\n",
       "      <th>max</th>\n",
       "      <td>891.000000</td>\n",
       "      <td>1.000000</td>\n",
       "      <td>3.0</td>\n",
       "      <td>74.000000</td>\n",
       "      <td>8.000000</td>\n",
       "      <td>6.000000</td>\n",
       "      <td>69.550000</td>\n",
       "    </tr>\n",
       "  </tbody>\n",
       "</table>\n",
       "</div>"
      ],
      "text/plain": [
       "       PassengerId    Survived  Pclass         Age       SibSp       Parch  \\\n",
       "count   491.000000  491.000000   491.0  355.000000  491.000000  491.000000   \n",
       "mean    439.154786    0.242363     3.0   25.140620    0.615071    0.393075   \n",
       "std     264.441453    0.428949     0.0   12.495398    1.374883    0.888861   \n",
       "min       1.000000    0.000000     3.0    0.420000    0.000000    0.000000   \n",
       "25%     200.000000    0.000000     3.0   18.000000    0.000000    0.000000   \n",
       "50%     432.000000    0.000000     3.0   24.000000    0.000000    0.000000   \n",
       "75%     666.500000    0.000000     3.0   32.000000    1.000000    0.000000   \n",
       "max     891.000000    1.000000     3.0   74.000000    8.000000    6.000000   \n",
       "\n",
       "             Fare  \n",
       "count  491.000000  \n",
       "mean    13.675550  \n",
       "std     11.778142  \n",
       "min      0.000000  \n",
       "25%      7.750000  \n",
       "50%      8.050000  \n",
       "75%     15.500000  \n",
       "max     69.550000  "
      ]
     },
     "execution_count": 129,
     "metadata": {},
     "output_type": "execute_result"
    }
   ],
   "source": [
    "# โหลด csv เข้าไปใน Python Pandas\n",
    "df = pd.read_csv('train.csv')\n",
    "# 2. เขียนโค้ดแสดง หัว10แถว ท้าย10แถว และสุ่ม10แถว\n",
    "df.head(10)\n",
    "df.tail(10)\n",
    "df.sample(10)\n",
    "# 3. ลบ row ที่มี Embarked ว่าง\n",
    "df.dropna()\n",
    "# 4. เติม age ด้วยค่าเฉลี่ย\n",
    "avg = df['Age'].mean()\n",
    "df['Age'].fillna(value=avg)\n",
    "# 5. เติม age ด้วย 0\n",
    "df['Age'].fillna(value=0)\n",
    "# ลบ row ที่ age เป็นค่าว่าง\n",
    "df['Age'].dropna()\n",
    "# 7. หาจำนวนผู้หญิงต่อผู้ชายที่อยู่บนเรือ\n",
    "male = df['Sex'].value_counts()['male']\n",
    "female = df['Sex'].value_counts()['female']\n",
    "female/male\n",
    "# 8. หาจำนวนผู้หญิงและผู้ชายที่รอดชีวิต\n",
    "df2 = df[['Sex','Survived']]\n",
    "df3 = df2['Survived'] == 1\n",
    "df4 = df2[df3]\n",
    "male = df4['Sex'].value_counts()['male']\n",
    "female = df4['Sex'].value_counts()['female']\n",
    "print(male)\n",
    "print(female)\n",
    "# 9. หา % การรอดชีวิตของผู้หญิงและผู้ชาย\n",
    "total = len(df.index)\n",
    "male/total*100\n",
    "female/total*100\n",
    "# 10. แปลงคอลัมน์ female = 0 และ male = 1\n",
    "df['Sex'].apply(lambda sex:1 if sex=='male' else 0)\n",
    "# หาคนที่อายุมากที่สุดพร้อมบอกชื่อ อายุ และลงท่าที่ไหน\n",
    "df[df['Age'] == df['Age'].max()][['Name','Age','Embarked']]\n",
    "# 12. หาคนที่อายุน้อยที่สุดพร้อมบอกชื่อ อายุ และลงท่าที่ไหน\n",
    "df[df['Age'] == df['Age'].min()][['Name','Age','Embarked']]\n",
    "# 13. หาคนที่จ่ายค่าโดยสารแพงที่สุดพร้อมบอกชื่อ อายุ และ\n",
    "# รอดชีวิตไหม\n",
    "df[df['Fare'] == df['Fare'].max()][['Name','Age','Survived']]\n",
    "# 14. หาคนที่จ่ายค่าโดยสารถูกที่สุดพร้อมบอกชื่อ อายุ และรอดชีวิต\n",
    "# ไหม\n",
    "df[df['Fare'] == df['Fare'].min()][['Name','Age','Survived']]\n",
    "# 15. สรุปว่ามีคนนั่งตั๋ว 1 2 3 กี่คน\n",
    "print(df['Pclass'].value_counts()[1])\n",
    "print(df['Pclass'].value_counts()[2])\n",
    "print(df['Pclass'].value_counts()[3])\n",
    "# หาค่าเฉลี่ยของตั๋วโดยสารแบบที่นั่งชั้น 1 2 3\n",
    "df[df['Pclass'] == 1]['Fare'].mean()\n",
    "df[df['Pclass'] == 2]['Fare'].mean()\n",
    "df[df['Pclass'] == 3]['Fare'].mean()\n",
    "# 17. มีผู้โดยสารกี่คนที่อายุเกิน 50 แล้วรอดชีวิต\n",
    "sr_survived = df['Survived'] == 1\n",
    "sr_age_greater_50 = df['Age'] > 50\n",
    "df_survived_and_age_greater_50 = df[sr_survived & sr_age_greater_50]\n",
    "len(df_survived_and_age_greater_50.index)\n",
    "# 18. แสดงผลข้อมูลทั้งหมดของที่นั่งชั้น 1 2 3 (describe)\n",
    "sr_first_class = df['Pclass'] == 1\n",
    "sr_second_class = df['Pclass'] == 2\n",
    "sr_third_class = df['Pclass'] == 3\n",
    "df[sr_first_class].describe()\n",
    "df[sr_second_class].describe()\n",
    "df[sr_third_class].describe()\n",
    "# 19. แสดงผลตั๋วที่แพงที่สุดของที่นั่งแต่ละชั้น\n",
    "\n",
    "# 20. แสดงเป็นกลุ่มช่วงอายุ 0-10, 20-30 …. (เพิ่มทีละ10) และหา\n",
    "# ว่าแต่ละกลุ่มมีอัตราการรอดชีวิตเท่าไหร่\n",
    "\n",
    "# เรียงลำดับตามราคามากไปน้อย และน้อยไปมาก"
   ]
  },
  {
   "cell_type": "code",
   "execution_count": null,
   "metadata": {},
   "outputs": [],
   "source": []
  },
  {
   "cell_type": "code",
   "execution_count": null,
   "metadata": {},
   "outputs": [],
   "source": []
  }
 ],
 "metadata": {
  "kernelspec": {
   "display_name": "Python 3",
   "language": "python",
   "name": "python3"
  },
  "language_info": {
   "codemirror_mode": {
    "name": "ipython",
    "version": 3
   },
   "file_extension": ".py",
   "mimetype": "text/x-python",
   "name": "python",
   "nbconvert_exporter": "python",
   "pygments_lexer": "ipython3",
   "version": "3.8.1"
  }
 },
 "nbformat": 4,
 "nbformat_minor": 4
}
