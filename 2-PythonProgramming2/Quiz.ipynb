{
 "cells": [
  {
   "cell_type": "code",
   "execution_count": null,
   "metadata": {},
   "outputs": [],
   "source": [
    "# เขียนโปรแกรมรับ input จากผู้ใช้ 1 ตัว แปลงให้เป็น int และตรวจ\n",
    "# สอบว่าเป็นเลขคู่หรือเลขคี่\n",
    "# - หากเป็นเลขคู่ ให้พิมพ์ว่า เลขคู่\n",
    "# - หากเป็นเลขคี่ ให้พิมพ์ว่า เลขคี่\n",
    "# - หากเป็นเลขศูนย์ให้พิมพ์ว่า เลขศูนย์\n",
    "\n",
    "x = int(input('Please fill number: '))\n",
    "if x == 0:\n",
    "    print('This is zero')\n",
    "elif x%2==0:\n",
    "    print('even number')\n",
    "else: \n",
    "    print('odd number')"
   ]
  },
  {
   "cell_type": "code",
   "execution_count": 4,
   "metadata": {},
   "outputs": [
    {
     "name": "stdout",
     "output_type": "stream",
     "text": [
      "fill first number 9\n",
      "fill second number 0\n",
      "second number is can not be 0\n"
     ]
    }
   ],
   "source": [
    "# 2. เขียนโปรแกรมรับค่า input 2 ตัว ในรูปแบบ float โดยให้ตัวแรกเป็น\n",
    "# ตัวตั้ง ตัวที่สองเป็นตัวหาร\n",
    "# - หาผลลัพธ์ของการหาร\n",
    "# - ใส่เลขทศนิยมได้\n",
    "# - ถ้าตัวหารเป็น 0 ให้รับค่าใหม่จนกว่าจะเป็นเลขที่หารได้\n",
    "\n",
    "x = float(input('fill first number '))\n",
    "y = float(input('fill second number '))\n",
    "if y == 0: \n",
    "    print('second number is can not be 0')\n",
    "else:\n",
    "    print('the divied number is ',x/y)"
   ]
  },
  {
   "cell_type": "code",
   "execution_count": 5,
   "metadata": {},
   "outputs": [
    {
     "name": "stdout",
     "output_type": "stream",
     "text": [
      "please fill number1\n",
      "please fill number2\n",
      "please fill number3\n",
      "please fill number4\n",
      "please fill number5\n",
      "please fill number6\n",
      "please fill number7\n",
      "please fill number8\n",
      "please fill number9\n",
      "please fill number0\n",
      "the avg is  5.0\n"
     ]
    }
   ],
   "source": [
    "# 3. เขียนโปรแกรม infinity while loop โดยรับค่า input มาเรื่อยๆ จนกว่า\n",
    "# ผู้ใช้จะใส่เลข 0 และนำเลขทั้งหมดมาหาค่าเฉลี่ย\n",
    "\n",
    "summ = 0\n",
    "count = 0\n",
    "while True:\n",
    "    element = int(input('please fill number'))\n",
    "    if element == 0:\n",
    "        break\n",
    "    summ+=element\n",
    "    count+=1\n",
    "print('the avg is ',summ/count)"
   ]
  },
  {
   "cell_type": "code",
   "execution_count": 7,
   "metadata": {},
   "outputs": [
    {
     "name": "stdout",
     "output_type": "stream",
     "text": [
      "please fill number7\n",
      "this number is Divide by 7\n"
     ]
    }
   ],
   "source": [
    "# 4. เขียนโปรมแกรมรับค่า input ที่เป็น integer มาหนึ่งตัว ตรวจสอบว่า\n",
    "# เลขนั้นหาร 7 ลงตัวหรือไม่\n",
    "# - ถ้าหารลงตัว ให้ปริ้น ‘หาร 7 ลงตัว’\n",
    "# - ถ้าหารไม่ลงตัว ให้ปริ้น ‘หาร 7 ไม่ลงตัว’\n",
    "\n",
    "x = int(input('please fill number'))\n",
    "if x % 7 == 0:\n",
    "    print('this number is Divide by 7')\n",
    "else :\n",
    "    print('this number is NOT divide by 7')"
   ]
  },
  {
   "cell_type": "code",
   "execution_count": null,
   "metadata": {},
   "outputs": [],
   "source": [
    "# 5. เขียนโปรแกรมรับค่า int มา 3 จำนวน และตรวจสอบว่า 3 เลขนั้น\n",
    "# สามารถนำมาสร้าง 3 เหลี่ยมมุมฉากได้หรือไม่\n",
    "\n",
    "a = int(input('fill first number'))\n",
    "b = int(input('fill second number'))\n",
    "c = int(input('fill third number'))\n",
    "numbers = [a,b,c]\n",
    "numbers.sort()\n",
    "x = numbers[0]\n",
    "y = numbers[1]\n",
    "z = numbers[2]\n",
    "if x**2+y**2 == z**2:\n",
    "    print('this is 90 degree triangle')\n",
    "else :\n",
    "    print('this is NOT 90 degree triangle')"
   ]
  },
  {
   "cell_type": "code",
   "execution_count": 3,
   "metadata": {},
   "outputs": [
    {
     "name": "stdout",
     "output_type": "stream",
     "text": [
      "fill first number3\n",
      "fill second number4\n",
      "fill third number6\n",
      "a b angle is greater than 90 degree\n"
     ]
    }
   ],
   "source": [
    "# 6. เขียนโปรแกรมรับค่า int มา 3 จำนวน และตรวจสอบว่าเมื่อนำ 3 เลข\n",
    "# นั้นมาสร้าง 3 เหลี่ยม จะได้สามเหลี่ยมแบบใด\n",
    "# - สามเหลี่ยมมุมแหลม\n",
    "# - สามเหลี่ยมมุมป้าน\n",
    "# - สามเหลี่ยมมุมฉาก\n",
    "\n",
    "a = int(input('fill first number'))\n",
    "b = int(input('fill second number'))\n",
    "c = int(input('fill third number'))\n",
    "if a**2+b**2 == c**2:\n",
    "    print('a b is 90 degree')\n",
    "elif a**2+b**2 > c**2 :\n",
    "    print('a b angle is less then 90 degree')\n",
    "else :\n",
    "    print ('a b angle is greater than 90 degree')"
   ]
  },
  {
   "cell_type": "code",
   "execution_count": 9,
   "metadata": {},
   "outputs": [
    {
     "name": "stdout",
     "output_type": "stream",
     "text": [
      "first payment amount90000000\n",
      "invalid input\n"
     ]
    }
   ],
   "source": [
    "# 7. เขียนโปรแกรมให้รับค่าอาหาร 3 ครั้งที่ไปทานอาหารนอกบ้านล่าสุด\n",
    "# โดยแต่ละครั้งต้องไม่ต่ำกว่า 1,000 และไม่เกิน 5,000 (ผู้ใช้ต้องใส่อยู่ใน\n",
    "# ช่วงนี้) และนำค่าอาหารทั้ง 3 ครั้งมาบวกกัน หากเกิน 6,000 บาท จะได้\n",
    "# รับส่วนลด 15% หากเกิน 12,000 จะได้รับส่วนลด 25% จงหายอดเงิน\n",
    "# สุดท้ายที่ต้องจ่าย\n",
    "summ = 0\n",
    "for i in [1,2,3]:\n",
    "    money = float(input('first payment amount'))\n",
    "    if money<1000 or money>5000:\n",
    "        print('invalid input')\n",
    "        break;\n",
    "    summ+=money\n",
    "    if i==3:\n",
    "        if summ > 12000 :\n",
    "            print(summ*0.75)\n",
    "        elif summ > 6000:\n",
    "            print(summ*0.85)\n",
    "        else:\n",
    "            print(summ)"
   ]
  },
  {
   "cell_type": "code",
   "execution_count": null,
   "metadata": {},
   "outputs": [],
   "source": [
    "# 8. เขียนโปรแกรมให้รับค่าอาหาร 4 ครั้งที่ไปทานอาหารนอกบ้านล่าสุด\n",
    "# โดยแต่ละครั้งต้องไม่ต่ำกว่า 1,000 และไม่เกิน 5,000 (ผู้ใช้ต้องใส่อยู่ใน\n",
    "# ช่วงนี้) และนำค่าอาหาร 3 ครั้งแรกมาบวกกัน หากเกิน 6,000 บาท จะได้\n",
    "# รับส่วนลด 15% หากเกิน 12,000 จะได้รับส่วนลด 25% ของมื้อที่ 4 จง\n",
    "# หายอดเงินสุดท้ายที่ต้องจ่ายของมื้อที่ 4\n",
    "summ = 0\n",
    "for i in [1,2,3,4]:\n",
    "    money = float(input('first payment amount'))\n",
    "    if money<1000 or money>5000:\n",
    "        print('invalid input')\n",
    "        break;\n",
    "    if i==4:\n",
    "        if summ > 12000 :\n",
    "            print(summ+money*0.75)\n",
    "        elif summ > 6000:\n",
    "            print(summ+money*0.85)\n",
    "        else:\n",
    "            print(summ+money)\n",
    "        break\n",
    "    summ+=money\n"
   ]
  },
  {
   "cell_type": "code",
   "execution_count": null,
   "metadata": {},
   "outputs": [
    {
     "name": "stdout",
     "output_type": "stream",
     "text": [
      "first payment amount;\n"
     ]
    }
   ],
   "source": [
    "# 9. เขียนโปรแกรมให้รับค่าอาหาร 4 ครั้งที่ไปทานอาหารนอกบ้านล่าสุด\n",
    "# โดยแต่ละครั้งต้องไม่ต่ำกว่า 1,000 และไม่เกิน 5,000 (เขียนให้ผู้ใช้ใส่\n",
    "# ใหม่หากไม่อยู่ในช่วงที่กำหนด) และนำค่าอาหาร 3 ครั้งแรกมาบวกกัน\n",
    "# หากเกิน 4,000 บาท จะได้รับส่วนลด 25% หากเกิน 9,000 จะได้รับ\n",
    "# ส่วนลด 30% ของมื้อที่ 4 จงหายอดเงินสุดท้ายที่ต้องจ่ายของมื้อที่ 4\n",
    "\n",
    "summ = 0\n",
    "for i in [1,2,3,4]:\n",
    "    money = float(input('first payment amount'))\n",
    "    if money<1000 or money>5000:\n",
    "        print('invalid input')\n",
    "        break;\n",
    "    if i==4:\n",
    "        if summ > 9000 :\n",
    "            print(summ+money*0.70)\n",
    "        elif summ > 4000:\n",
    "            print(summ+money*0.75)\n",
    "        else:\n",
    "            print(summ+money)\n",
    "        break\n",
    "    summ+=money"
   ]
  },
  {
   "cell_type": "code",
   "execution_count": null,
   "metadata": {},
   "outputs": [],
   "source": [
    "# 10. เขียนโปรแกรมให้รับค่าอาหาร 4 ครั้งที่ไปทานอาหารนอกบ้านล่าสุด\n",
    "# โดยแต่ละครั้งต้องไม่ต่ำกว่า 1,000 และไม่เกิน 5,000 (เขียนให้ผู้ใช้ใส่\n",
    "# ใหม่หากไม่อยู่ในช่วงที่กำหนด) และถามผู้ใช้มีบัตรเครดิตหรือไม่\n",
    "# (True/False) นำค่าอาหาร 3 ครั้งแรกมาบวกกัน หากเกิน 4,000 บาท จะ\n",
    "# ได้รับส่วนลด 25% หากเกิน 9,000 จะได้รับส่วนลด 30% ของมื้อที่ 4\n",
    "# หากมีบัตรเครดิต ลดเพิ่มอีก 5% จงหายอดเงินสุดท้ายที่ต้องจ่ายของมื้อ\n",
    "# ที่ 4\n",
    "\n",
    "summ = 0\n",
    "for i in [1,2,3,4]:\n",
    "    money = float(input('first payment amount'))\n",
    "    if money<1000 or money>5000:\n",
    "        print('invalid input')\n",
    "        break;\n",
    "    if i==4:\n",
    "        haveCredit=bool(input'do you have credit card')\n",
    "        if summ > 9000 :\n",
    "            print(summ+money*0.70)\n",
    "        elif summ > 4000:\n",
    "            print(summ+money*0.75)\n",
    "        else:\n",
    "            print(summ+money)\n",
    "        break\n",
    "    summ+=money"
   ]
  },
  {
   "cell_type": "code",
   "execution_count": 1,
   "metadata": {},
   "outputs": [
    {
     "name": "stdout",
     "output_type": "stream",
     "text": [
      "fill text in wordHelloWorld\n"
     ]
    },
    {
     "data": {
      "text/plain": [
       "'hELLOwORLD'"
      ]
     },
     "execution_count": 1,
     "metadata": {},
     "output_type": "execute_result"
    }
   ],
   "source": [
    "# 11. จงเขียนโปรแกรมรับ input ที่เป็นประโยคแบบ string ที่มีความยาว\n",
    "# ของคำไม่ต่ำกว่า 7 ตัวอักษรภาษาอังกฤษ(สมมติว่าเป็นคำเดียว) และมี\n",
    "# พิมพ์ใหญ่พิมพ์เล็กปนกัน จากนั้นให้ตรวจสอบแต่ละอักษร ให้แปลงพิมพ์\n",
    "# ใหญ่เป็นพิมพ์เล็ก และพิมพ์เล็กเป็นพิมพ์ใหญ่พร้อมกับปริ้นออกมา\n",
    "\n",
    "inputStr=input('fill text in word')\n",
    "outputStr=''\n",
    "if len(inputStr)<7:\n",
    "    print ('invalid')\n",
    "    quit()\n",
    "for char in inputStr:\n",
    "    if char.isupper():\n",
    "        outputStr+=(char.lower())\n",
    "    elif char.islower() :\n",
    "        outputStr+=(char.upper())\n",
    "outputStr"
   ]
  },
  {
   "cell_type": "code",
   "execution_count": 4,
   "metadata": {},
   "outputs": [
    {
     "name": "stdout",
     "output_type": "stream",
     "text": [
      "qqqqq\n",
      "qqq\n",
      "qq\n",
      "q\n",
      "['q', 'qq', 'qqq', 'qqqqq']\n"
     ]
    }
   ],
   "source": [
    "# 12. เขียนโปรแกรมรับ input 4 ตัวที่เป็น string จากนั้นตรวจสอบว่า\n",
    "# input ใดมีความยาวมากที่สุด รองลงมา และน้อยที่สุด จากนั้น ปริ้นแต่ละ\n",
    "# input ออกมาตามลำดับน้อยสุดไปมากสุด\n",
    "\n",
    "strs = [input(), input(), input(), input()]\n",
    "print (sorted(strs, key=len))"
   ]
  },
  {
   "cell_type": "code",
   "execution_count": 5,
   "metadata": {},
   "outputs": [],
   "source": [
    "# 13. เขียนโปรแกรมรับ input สองตัวเป็นจำนวนเต็มระหว่าง 0-60 โดยตัว\n",
    "# แรกเป็นชั่วโมงและตัวที่สองเป็นนาที คำนวณค่าที่จอดรถถ้าชั่วโมงละ\n",
    "# 150 บาท เศษนาทีคิดเป็นนาทีละ 2 บาท\n",
    "\n",
    "hour = int(input('fill hour')\n",
    "mins = int(input 'fill mins')\n",
    "minutes = 60*hour + mins\n",
    "summ=0\n",
    "while(minutes>0):\n",
    "    if(minutes>=60):\n",
    "        summ+=150\n",
    "        minutes-=60\n",
    "    else :\n",
    "        summ+=2\n",
    "        minutes-=1\n",
    "print(sum)"
   ]
  },
  {
   "cell_type": "code",
   "execution_count": 6,
   "metadata": {},
   "outputs": [],
   "source": [
    "# 14. เขียนโปรแกรมรับ input สองตัวเป็นจำนวนเต็มระหว่าง 0-60 โดยตัว\n",
    "# แรกเป็นชั่วโมงและตัวที่สองเป็นนาที คำนวณค่าที่จอดรถถ้าชั่วโมงละ\n",
    "# 300 บาท เศษนาทีเกิน 15 นาทีคิดเป็นหนึ่งชั่วโมง หากไม่เกินไม่คิดเงิน\n",
    "# และชั่วโมงแรกจอดฟรี\n",
    "\n",
    "hour = int(input('fill hour'))\n",
    "mins = int(input('fill mins'))\n",
    "minutes = 60*hour + mins\n",
    "summ=0\n",
    "isFree=True\n",
    "while minutes>0 :\n",
    "    if minutes>60 :\n",
    "        if isFree :\n",
    "           minutes-=60\n",
    "           isFree=False\n",
    "        else\n",
    "           minutes-=60\n",
    "           sum+=300\n",
    "    elif minutes>15 :\n",
    "        summ+=300\n",
    "        minutes-=15\n",
    "print(summ)"
   ]
  },
  {
   "cell_type": "code",
   "execution_count": null,
   "metadata": {},
   "outputs": [],
   "source": [
    "# 15. โรงละครสัตว์มีนก กับ วัว และต้องจ่ายภาษีสัตว์ 2 ขา 150 บาทต่อตัว\n",
    "# จ่ายภาษีสัตว์ 4 ขา 220 บาทต่อตัว เขียนโปรแกรมรับค่า input สองตัว\n",
    "# ตัวแรกเป็นผลรวมจำนวนหัวของสัตว์ ตัวสองเป็นผลรวมจำนวนขาของ\n",
    "# สัตว์ จงหาว่าโรงละครสัตว์ต้องจ่ายภาษีเท่าใด\n",
    "\n",
    "head = int(input('number of head'))\n",
    "foot = int(input('number of foot'))\n",
    "bird = ((head * 4) - foot) / 2\n",
    "ox = head - bird\n",
    "tax = (150 * twoLeg) + (220 * fourLeg)"
   ]
  }
 ],
 "metadata": {
  "kernelspec": {
   "display_name": "Python 3",
   "language": "python",
   "name": "python3"
  },
  "language_info": {
   "codemirror_mode": {
    "name": "ipython",
    "version": 3
   },
   "file_extension": ".py",
   "mimetype": "text/x-python",
   "name": "python",
   "nbconvert_exporter": "python",
   "pygments_lexer": "ipython3",
   "version": "3.8.1"
  }
 },
 "nbformat": 4,
 "nbformat_minor": 4
}
